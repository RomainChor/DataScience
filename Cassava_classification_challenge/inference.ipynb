{
 "cells": [
  {
   "cell_type": "markdown",
   "metadata": {
    "papermill": {
     "duration": 0.008579,
     "end_time": "2021-02-18T22:27:01.179826",
     "exception": false,
     "start_time": "2021-02-18T22:27:01.171247",
     "status": "completed"
    },
    "tags": []
   },
   "source": [
    "# Inference notebook for \"Cassava leaf disease classification\" competition"
   ]
  },
  {
   "cell_type": "code",
   "execution_count": 1,
   "metadata": {
    "_cell_guid": "b1076dfc-b9ad-4769-8c92-a6c4dae69d19",
    "_uuid": "8f2839f25d086af736a60e9eeb907d3b93b6e0e5",
    "execution": {
     "iopub.execute_input": "2021-02-18T22:27:01.201273Z",
     "iopub.status.busy": "2021-02-18T22:27:01.200731Z",
     "iopub.status.idle": "2021-02-18T22:27:01.223563Z",
     "shell.execute_reply": "2021-02-18T22:27:01.223118Z"
    },
    "papermill": {
     "duration": 0.036021,
     "end_time": "2021-02-18T22:27:01.223650",
     "exception": false,
     "start_time": "2021-02-18T22:27:01.187629",
     "status": "completed"
    },
    "tags": []
   },
   "outputs": [],
   "source": [
    "%load_ext autoreload\n",
    "%autoreload 2"
   ]
  },
  {
   "cell_type": "code",
   "execution_count": 2,
   "metadata": {
    "execution": {
     "iopub.execute_input": "2021-02-18T22:27:01.243172Z",
     "iopub.status.busy": "2021-02-18T22:27:01.242395Z",
     "iopub.status.idle": "2021-02-18T22:27:01.261755Z",
     "shell.execute_reply": "2021-02-18T22:27:01.261344Z"
    },
    "papermill": {
     "duration": 0.030222,
     "end_time": "2021-02-18T22:27:01.261838",
     "exception": false,
     "start_time": "2021-02-18T22:27:01.231616",
     "status": "completed"
    },
    "tags": []
   },
   "outputs": [],
   "source": [
    "from pathlib import Path\n",
    "import numpy as np, pandas as pd\n",
    "import matplotlib.image as mpimg"
   ]
  },
  {
   "cell_type": "code",
   "execution_count": 3,
   "metadata": {
    "execution": {
     "iopub.execute_input": "2021-02-18T22:27:01.281813Z",
     "iopub.status.busy": "2021-02-18T22:27:01.281021Z",
     "iopub.status.idle": "2021-02-18T22:27:01.299714Z",
     "shell.execute_reply": "2021-02-18T22:27:01.299304Z"
    },
    "papermill": {
     "duration": 0.030193,
     "end_time": "2021-02-18T22:27:01.299797",
     "exception": false,
     "start_time": "2021-02-18T22:27:01.269604",
     "status": "completed"
    },
    "tags": []
   },
   "outputs": [],
   "source": [
    "# BASE PATHS: ONLY THINGS TO CHANGE WHEN SHARING THIS NOTEBOOK\n",
    "BASE_DIR = Path(\"../input/cassava-leaf-disease-classification\") #Path to data directory\n",
    "MODELS_DIR = Path(\"../input/cassavamodels\") #Path to saved models\n",
    "IMAGE_DIR = Path(BASE_DIR, \"train_images\") #Path to images directory\n",
    "OUTPUT_DIR = Path(\"./\") #Path to 'output' directory\n",
    "\n",
    "SEED = 117\n",
    "IMAGE_SIZE = 512"
   ]
  },
  {
   "cell_type": "code",
   "execution_count": 4,
   "metadata": {
    "execution": {
     "iopub.execute_input": "2021-02-18T22:27:01.319182Z",
     "iopub.status.busy": "2021-02-18T22:27:01.318407Z",
     "iopub.status.idle": "2021-02-18T22:27:06.009476Z",
     "shell.execute_reply": "2021-02-18T22:27:06.008908Z"
    },
    "papermill": {
     "duration": 4.701935,
     "end_time": "2021-02-18T22:27:06.009599",
     "exception": false,
     "start_time": "2021-02-18T22:27:01.307664",
     "status": "completed"
    },
    "tags": []
   },
   "outputs": [],
   "source": [
    "from tensorflow.keras.mixed_precision import experimental as mixed_precision\n",
    "\n",
    "# policy = mixed_precision.Policy('mixed_float16')\n",
    "# mixed_precision.set_policy(policy) #shortens training time by 2x"
   ]
  },
  {
   "cell_type": "code",
   "execution_count": 5,
   "metadata": {
    "execution": {
     "iopub.execute_input": "2021-02-18T22:27:06.031434Z",
     "iopub.status.busy": "2021-02-18T22:27:06.030678Z",
     "iopub.status.idle": "2021-02-18T22:27:08.377956Z",
     "shell.execute_reply": "2021-02-18T22:27:08.377429Z"
    },
    "papermill": {
     "duration": 2.359662,
     "end_time": "2021-02-18T22:27:08.378069",
     "exception": false,
     "start_time": "2021-02-18T22:27:06.018407",
     "status": "completed"
    },
    "tags": []
   },
   "outputs": [],
   "source": [
    "import tensorflow as tf\n",
    "from keras.models import load_model\n",
    "from keras.layers import Dropout\n",
    "from keras.preprocessing.image import load_img, img_to_array\n",
    "import albumentations as alb\n",
    "\n",
    "\n",
    "sample = pd.read_csv(Path(BASE_DIR, \"sample_submission.csv\"))"
   ]
  },
  {
   "cell_type": "code",
   "execution_count": 6,
   "metadata": {
    "execution": {
     "iopub.execute_input": "2021-02-18T22:27:08.404211Z",
     "iopub.status.busy": "2021-02-18T22:27:08.403390Z",
     "iopub.status.idle": "2021-02-18T22:27:08.455759Z",
     "shell.execute_reply": "2021-02-18T22:27:08.455335Z"
    },
    "papermill": {
     "duration": 0.068859,
     "end_time": "2021-02-18T22:27:08.455851",
     "exception": false,
     "start_time": "2021-02-18T22:27:08.386992",
     "status": "completed"
    },
    "tags": []
   },
   "outputs": [],
   "source": [
    "from tqdm import trange\n",
    "\n",
    "# For TTA\n",
    "def tta_predict(image, model, augments, preprocess_func, N=5, kfold=False):\n",
    "    preds = []\n",
    "    for i in range(N):\n",
    "        augment_image = augments(image=image)[\"image\"]\n",
    "        augment_image = preprocess_func(image)\n",
    "        augment_image = np.expand_dims(augment_image, axis=0)\n",
    "        preds.append(model.predict(augment_image))\n",
    "    \n",
    "    if kfold:\n",
    "        return np.mean(preds, axis=0)\n",
    "    return np.argmax(np.mean(preds, axis=0))\n",
    "\n",
    "\n",
    "# # For Monte-Carlo dropout\n",
    "def predict_proba(image, model, num_samples):\n",
    "    preds = [model.predict(image) for _ in trange(num_samples)]\n",
    "\n",
    "    return np.stack(preds).mean(axis=0)\n",
    "     \n",
    "def predict_class(image, model, num_samples):\n",
    "    proba_preds = predict_proba(image, model, num_samples)\n",
    "\n",
    "    return np.argmax(proba_preds)"
   ]
  },
  {
   "cell_type": "markdown",
   "metadata": {
    "papermill": {
     "duration": 0.008351,
     "end_time": "2021-02-18T22:27:08.472530",
     "exception": false,
     "start_time": "2021-02-18T22:27:08.464179",
     "status": "completed"
    },
    "tags": []
   },
   "source": [
    "## Single model inference"
   ]
  },
  {
   "cell_type": "code",
   "execution_count": 7,
   "metadata": {
    "execution": {
     "iopub.execute_input": "2021-02-18T22:27:08.493375Z",
     "iopub.status.busy": "2021-02-18T22:27:08.492613Z",
     "iopub.status.idle": "2021-02-18T22:27:08.542568Z",
     "shell.execute_reply": "2021-02-18T22:27:08.542132Z"
    },
    "papermill": {
     "duration": 0.061798,
     "end_time": "2021-02-18T22:27:08.542659",
     "exception": false,
     "start_time": "2021-02-18T22:27:08.480861",
     "status": "completed"
    },
    "tags": []
   },
   "outputs": [],
   "source": [
    "# model = load_model(Path(MODELS_DIR, \"EfficientNetB0_512.h5\"))\n",
    "\n",
    "# mc = False #Monte-Carlo dropout\n",
    "# tta = not(mc)\n",
    "# tta_augments = alb.Compose([\n",
    "#     alb.ShiftScaleRotate(p=0.5),\n",
    "#     alb.CoarseDropout(p=0.5),\n",
    "#     alb.HorizontalFlip(p=0.5),\n",
    "#     alb.VerticalFlip(p=0.5),\n",
    "#     alb.RandomCrop(height=IMAGE_SIZE, width=IMAGE_SIZE, p=0.5)\n",
    "# ])\n",
    "\n",
    "# center = alb.CenterCrop(height=IMAGE_SIZE, width=IMAGE_SIZE, p=1.0)"
   ]
  },
  {
   "cell_type": "code",
   "execution_count": 8,
   "metadata": {
    "execution": {
     "iopub.execute_input": "2021-02-18T22:27:08.563710Z",
     "iopub.status.busy": "2021-02-18T22:27:08.562925Z",
     "iopub.status.idle": "2021-02-18T22:27:08.612025Z",
     "shell.execute_reply": "2021-02-18T22:27:08.611606Z"
    },
    "papermill": {
     "duration": 0.061014,
     "end_time": "2021-02-18T22:27:08.612108",
     "exception": false,
     "start_time": "2021-02-18T22:27:08.551094",
     "status": "completed"
    },
    "tags": []
   },
   "outputs": [],
   "source": [
    "# results = []\n",
    "# for image_id in sample.image_id:\n",
    "#     image = load_img(Path(BASE_DIR, \"test_images\", image_id)) #Read images\n",
    "#     image = img_to_array(image)\n",
    "    \n",
    "#     if tta:\n",
    "#         results.append(tta_predict(image, model, tta_augments, efficient_preprocess, K=5))\n",
    "#     elif mc:\n",
    "#         image = center(image=image)[\"image\"]\n",
    "# #         image = xception_preprocess(image)\n",
    "#         image = np.expand_dims(image, axis=0)\n",
    "#         results.append(predict_class(image, model, 5))\n",
    "#     else:\n",
    "#         image = center(image=image)[\"image\"]\n",
    "# #         image = xception_preprocess(image)\n",
    "#         image = np.expand_dims(image, axis=0)\n",
    "#         results.append(np.argmax(model.predict(image)))\n",
    "\n",
    "# sample['label'] = results\n",
    "# sample.to_csv(\"submission.csv\", index=False)\n",
    "# display(sample)"
   ]
  },
  {
   "cell_type": "markdown",
   "metadata": {
    "papermill": {
     "duration": 0.008368,
     "end_time": "2021-02-18T22:27:08.629286",
     "exception": false,
     "start_time": "2021-02-18T22:27:08.620918",
     "status": "completed"
    },
    "tags": []
   },
   "source": [
    "## K-folds inference"
   ]
  },
  {
   "cell_type": "code",
   "execution_count": 9,
   "metadata": {
    "execution": {
     "iopub.execute_input": "2021-02-18T22:27:08.654029Z",
     "iopub.status.busy": "2021-02-18T22:27:08.653238Z",
     "iopub.status.idle": "2021-02-18T22:27:08.702229Z",
     "shell.execute_reply": "2021-02-18T22:27:08.701810Z"
    },
    "papermill": {
     "duration": 0.064399,
     "end_time": "2021-02-18T22:27:08.702306",
     "exception": false,
     "start_time": "2021-02-18T22:27:08.637907",
     "status": "completed"
    },
    "tags": []
   },
   "outputs": [],
   "source": [
    "def kfolds_predict(image, models, augments, preprocess_func, tta=False, ensemble=False):\n",
    "    preds = []\n",
    "    for model in models:\n",
    "        if tta:\n",
    "            pred = tta_predict(image, model, augments, preprocess_func, 5, True)\n",
    "        else:\n",
    "            augment_image = augments(image=image)[\"image\"]\n",
    "            augment_image = preprocess_func(augment_image)\n",
    "            augment_image = np.expand_dims(augment_image, axis=0)\n",
    "            pred = model.predict(augment_image)\n",
    "        preds.append(pred)\n",
    "        \n",
    "    if ensemble:\n",
    "        return np.mean(preds, axis=0)\n",
    "    return np.argmax(np.mean(preds, axis=0))\n",
    "\n",
    "\n",
    "def ensemble_predict(image, models, augments, funcs, tta=False):\n",
    "    preds = []\n",
    "    for name in models.keys():\n",
    "        pred = kfolds_predict(image, models[name], augments, funcs[name], tta, True)\n",
    "        preds.append(pred)\n",
    "    \n",
    "    return np.argmax(np.mean(preds, axis=0))"
   ]
  },
  {
   "cell_type": "code",
   "execution_count": 10,
   "metadata": {
    "execution": {
     "iopub.execute_input": "2021-02-18T22:27:08.726978Z",
     "iopub.status.busy": "2021-02-18T22:27:08.726163Z",
     "iopub.status.idle": "2021-02-18T22:27:43.076587Z",
     "shell.execute_reply": "2021-02-18T22:27:43.076014Z"
    },
    "papermill": {
     "duration": 34.365851,
     "end_time": "2021-02-18T22:27:43.076715",
     "exception": false,
     "start_time": "2021-02-18T22:27:08.710864",
     "status": "completed"
    },
    "tags": []
   },
   "outputs": [],
   "source": [
    "K = 3\n",
    "models_names = [\"Xception\", \"EfficientNetB0\"]\n",
    "models_dict = {\"Xception\":[], \"EfficientNetB0\":[]}\n",
    "funcs = {\n",
    "    \"Xception\":tf.keras.applications.xception.preprocess_input,\n",
    "    \"EfficientNetB0\":tf.keras.applications.efficientnet.preprocess_input\n",
    "}\n",
    "# models = []\n",
    "for name in models_names:\n",
    "    for i in range(1, K+1):\n",
    "        model = load_model(Path(MODELS_DIR, \"{0:s}_512_fold{1:d}.h5\".format(name, i)))\n",
    "#         models.append(model)\n",
    "        models_dict[name].append(model)\n",
    "    \n",
    "center = alb.CenterCrop(height=IMAGE_SIZE, width=IMAGE_SIZE, p=1.0)\n",
    "resize = alb.Resize(height=IMAGE_SIZE, width=IMAGE_SIZE, p=1.0)\n",
    "\n",
    "tta_augments = alb.Compose([\n",
    "    alb.ShiftScaleRotate(p=0.5),\n",
    "    alb.CoarseDropout(p=0.5),\n",
    "    alb.HorizontalFlip(p=0.5),\n",
    "    alb.VerticalFlip(p=0.5),\n",
    "    alb.RandomCrop(height=IMAGE_SIZE, width=IMAGE_SIZE, p=1.0)\n",
    "#     alb.Resize(height=IMAGE_SIZE, width=IMAGE_SIZE, p=1.0)\n",
    "])"
   ]
  },
  {
   "cell_type": "code",
   "execution_count": 11,
   "metadata": {
    "execution": {
     "iopub.execute_input": "2021-02-18T22:27:43.101711Z",
     "iopub.status.busy": "2021-02-18T22:27:43.100937Z",
     "iopub.status.idle": "2021-02-18T22:27:53.543367Z",
     "shell.execute_reply": "2021-02-18T22:27:53.542929Z"
    },
    "papermill": {
     "duration": 10.457277,
     "end_time": "2021-02-18T22:27:53.543464",
     "exception": false,
     "start_time": "2021-02-18T22:27:43.086187",
     "status": "completed"
    },
    "tags": []
   },
   "outputs": [
    {
     "data": {
      "text/html": [
       "<div>\n",
       "<style scoped>\n",
       "    .dataframe tbody tr th:only-of-type {\n",
       "        vertical-align: middle;\n",
       "    }\n",
       "\n",
       "    .dataframe tbody tr th {\n",
       "        vertical-align: top;\n",
       "    }\n",
       "\n",
       "    .dataframe thead th {\n",
       "        text-align: right;\n",
       "    }\n",
       "</style>\n",
       "<table border=\"1\" class=\"dataframe\">\n",
       "  <thead>\n",
       "    <tr style=\"text-align: right;\">\n",
       "      <th></th>\n",
       "      <th>image_id</th>\n",
       "      <th>label</th>\n",
       "    </tr>\n",
       "  </thead>\n",
       "  <tbody>\n",
       "    <tr>\n",
       "      <th>0</th>\n",
       "      <td>2216849948.jpg</td>\n",
       "      <td>4</td>\n",
       "    </tr>\n",
       "  </tbody>\n",
       "</table>\n",
       "</div>"
      ],
      "text/plain": [
       "         image_id  label\n",
       "0  2216849948.jpg      4"
      ]
     },
     "metadata": {},
     "output_type": "display_data"
    }
   ],
   "source": [
    "import matplotlib.pyplot as plt\n",
    "\n",
    "tta = False\n",
    "if tta:\n",
    "    augments = tta_augments\n",
    "else:\n",
    "    augments = center\n",
    "    \n",
    "results = []\n",
    "for image_id in sample.image_id:\n",
    "    preds = []\n",
    "    image = load_img(Path(BASE_DIR, \"test_images\", image_id)) #Load images\n",
    "    image = img_to_array(image)\n",
    "    \n",
    "#     results.append(kfolds_predict(image, models, augments, preprocess_func, tta))\n",
    "    results.append(ensemble_predict(image, models_dict, augments, funcs, tta))\n",
    "\n",
    "sample['label'] = results\n",
    "sample.to_csv(Path(OUTPUT_DIR, \"submission.csv\"), index=False)\n",
    "display(sample)"
   ]
  }
 ],
 "metadata": {
  "kernelspec": {
   "display_name": "Python 3",
   "language": "python",
   "name": "python3"
  },
  "language_info": {
   "codemirror_mode": {
    "name": "ipython",
    "version": 3
   },
   "file_extension": ".py",
   "mimetype": "text/x-python",
   "name": "python",
   "nbconvert_exporter": "python",
   "pygments_lexer": "ipython3",
   "version": "3.7.6"
  },
  "papermill": {
   "duration": 57.713995,
   "end_time": "2021-02-18T22:27:55.073648",
   "environment_variables": {},
   "exception": null,
   "input_path": "__notebook__.ipynb",
   "output_path": "__notebook__.ipynb",
   "parameters": {},
   "start_time": "2021-02-18T22:26:57.359653",
   "version": "2.1.0"
  }
 },
 "nbformat": 4,
 "nbformat_minor": 4
}

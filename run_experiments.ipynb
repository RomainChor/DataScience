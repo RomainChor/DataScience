{
 "cells": [
  {
   "cell_type": "markdown",
   "metadata": {},
   "source": [
    "# Experiments on the generalization error of distributed SVM \n",
    "### May 2022"
   ]
  },
  {
   "cell_type": "markdown",
   "metadata": {},
   "source": [
    "These experiments correpond to the section A of the supplementary materials in the paper \"Rate-Distortion Theoretic Bounds on\n",
    "Generalization Error for Distributed Learning\" submitted to NeurIPS 2022 conference."
   ]
  },
  {
   "cell_type": "code",
   "execution_count": 1,
   "metadata": {},
   "outputs": [],
   "source": [
    "%load_ext autoreload\n",
    "%autoreload 2\n",
    "%matplotlib inline"
   ]
  },
  {
   "cell_type": "code",
   "execution_count": 2,
   "metadata": {},
   "outputs": [],
   "source": [
    "import warnings\n",
    "import time\n",
    "import numpy as np\n",
    "import pandas as pd\n",
    "import matplotlib.pyplot as plt\n",
    "\n",
    "from utils import *\n",
    "\n",
    "\n",
    "plt.rcParams.update({'font.size': 14})\n",
    "warnings.filterwarnings(\"ignore\")"
   ]
  },
  {
   "cell_type": "code",
   "execution_count": 3,
   "metadata": {},
   "outputs": [],
   "source": [
    "\"\"\"\n",
    "Parameters/Hyperparameters that the user can set. \n",
    "Values in the dictionnary 'params' can be changed but the user is not encouraged to do so as these\n",
    "parameters are optimized to obtain the results presented in the paper.\n",
    "\"\"\"\n",
    "SEED = 193 # Seed for reproducibility\n",
    "PATH = \"\" # Path to folder containing MNIST data\n",
    "\n",
    "class1 = 1 # Label of class 1\n",
    "class2 = 6 # Label of class 2\n",
    "\n",
    "M = 1 # Number of simulations (for more stable results)\n",
    "n = 300 # Size of each client dataset\n",
    "num_values = 5 # Number of different values of K to use\n",
    "\n",
    "params = {\n",
    "    \"alpha\":0.00001, # L2 regularization hyperparameter\n",
    "    \"lr\":0.01, # Learning rate\n",
    "    \"client_epochs\":200, # Client model number of epochs\n",
    "    \"epochs\":200, # Centralized model number of epochs\n",
    "    \"n_rounds\":1, # Number of distributed rounds\n",
    "    \"gamma\":0.01, # Kernel hyperparameter\n",
    "    \"proj_dim\":2000, # Dimension of the kernel feature space\n",
    "    \"theta\":0, # Margin size parameter\n",
    "    \"min_risk\":0.001 # Minimum empirical risk to reach to stop training\n",
    "}"
   ]
  },
  {
   "cell_type": "code",
   "execution_count": 4,
   "metadata": {},
   "outputs": [
    {
     "name": "stdout",
     "output_type": "stream",
     "text": [
      "K = 2, N = 600\n"
     ]
    },
    {
     "data": {
      "application/vnd.jupyter.widget-view+json": {
       "model_id": "c4fcbec1d2624edea71cea01c5c4353f",
       "version_major": 2,
       "version_minor": 0
      },
      "text/plain": [
       "  0%|          | 0/2 [00:00<?, ?it/s]"
      ]
     },
     "metadata": {},
     "output_type": "display_data"
    },
    {
     "name": "stdout",
     "output_type": "stream",
     "text": [
      "Distributed learning setup total runtime: 1.100s.\n",
      "==============================\n"
     ]
    },
    {
     "data": {
      "application/vnd.jupyter.widget-view+json": {
       "model_id": "dfeee6603f4f4c32913d8858a5e4c40c",
       "version_major": 2,
       "version_minor": 0
      },
      "text/plain": [
       "  0%|          | 0/199 [00:00<?, ?it/s]"
      ]
     },
     "metadata": {},
     "output_type": "display_data"
    },
    {
     "name": "stdout",
     "output_type": "stream",
     "text": [
      "Centralized learning setup total runtime: 4.614s.\n",
      "===============================================\n",
      "K = 12, N = 3600\n"
     ]
    },
    {
     "data": {
      "application/vnd.jupyter.widget-view+json": {
       "model_id": "af43b38c5b674479b9b55d81632ef777",
       "version_major": 2,
       "version_minor": 0
      },
      "text/plain": [
       "  0%|          | 0/12 [00:00<?, ?it/s]"
      ]
     },
     "metadata": {},
     "output_type": "display_data"
    },
    {
     "name": "stdout",
     "output_type": "stream",
     "text": [
      "Distributed learning setup total runtime: 4.873s.\n",
      "==============================\n"
     ]
    },
    {
     "data": {
      "application/vnd.jupyter.widget-view+json": {
       "model_id": "27921ae16f5641478832264f442b51fb",
       "version_major": 2,
       "version_minor": 0
      },
      "text/plain": [
       "  0%|          | 0/199 [00:00<?, ?it/s]"
      ]
     },
     "metadata": {},
     "output_type": "display_data"
    },
    {
     "name": "stdout",
     "output_type": "stream",
     "text": [
      "Centralized learning setup total runtime: 41.979s.\n",
      "===============================================\n",
      "K = 22, N = 6600\n"
     ]
    },
    {
     "data": {
      "application/vnd.jupyter.widget-view+json": {
       "model_id": "eb75e521e0cf4275b50f017c57dbb577",
       "version_major": 2,
       "version_minor": 0
      },
      "text/plain": [
       "  0%|          | 0/22 [00:00<?, ?it/s]"
      ]
     },
     "metadata": {},
     "output_type": "display_data"
    },
    {
     "name": "stdout",
     "output_type": "stream",
     "text": [
      "Distributed learning setup total runtime: 9.542s.\n",
      "==============================\n"
     ]
    },
    {
     "data": {
      "application/vnd.jupyter.widget-view+json": {
       "model_id": "5f1548903b254dfbb31b51f42a607b01",
       "version_major": 2,
       "version_minor": 0
      },
      "text/plain": [
       "  0%|          | 0/199 [00:00<?, ?it/s]"
      ]
     },
     "metadata": {},
     "output_type": "display_data"
    },
    {
     "name": "stdout",
     "output_type": "stream",
     "text": [
      "Centralized learning setup total runtime: 71.161s.\n",
      "===============================================\n",
      "K = 32, N = 9600\n"
     ]
    },
    {
     "data": {
      "application/vnd.jupyter.widget-view+json": {
       "model_id": "fb790c27cdc1458fbd2d9644f6ced23b",
       "version_major": 2,
       "version_minor": 0
      },
      "text/plain": [
       "  0%|          | 0/32 [00:00<?, ?it/s]"
      ]
     },
     "metadata": {},
     "output_type": "display_data"
    },
    {
     "name": "stdout",
     "output_type": "stream",
     "text": [
      "Distributed learning setup total runtime: 12.369s.\n",
      "==============================\n"
     ]
    },
    {
     "data": {
      "application/vnd.jupyter.widget-view+json": {
       "model_id": "e83021d7c6ff4b1faa04546c6c365d8d",
       "version_major": 2,
       "version_minor": 0
      },
      "text/plain": [
       "  0%|          | 0/199 [00:00<?, ?it/s]"
      ]
     },
     "metadata": {},
     "output_type": "display_data"
    },
    {
     "name": "stdout",
     "output_type": "stream",
     "text": [
      "Centralized learning setup total runtime: 109.008s.\n",
      "===============================================\n",
      "K = 42, N = 12600\n"
     ]
    },
    {
     "data": {
      "application/vnd.jupyter.widget-view+json": {
       "model_id": "8acb6477559645b3b74e7b5145726104",
       "version_major": 2,
       "version_minor": 0
      },
      "text/plain": [
       "  0%|          | 0/42 [00:00<?, ?it/s]"
      ]
     },
     "metadata": {},
     "output_type": "display_data"
    },
    {
     "name": "stdout",
     "output_type": "stream",
     "text": [
      "Distributed learning setup total runtime: 18.928s.\n",
      "==============================\n"
     ]
    },
    {
     "data": {
      "application/vnd.jupyter.widget-view+json": {
       "model_id": "d5cb5a5d2f2e41d5a739f82ee450203d",
       "version_major": 2,
       "version_minor": 0
      },
      "text/plain": [
       "  0%|          | 0/199 [00:00<?, ?it/s]"
      ]
     },
     "metadata": {},
     "output_type": "display_data"
    },
    {
     "name": "stdout",
     "output_type": "stream",
     "text": [
      "Centralized learning setup total runtime: 138.457s.\n",
      "===============================================\n"
     ]
    }
   ],
   "source": [
    "###########################################\n",
    "# PLEASE DO NOT CHANGE ANYTHING IN THIS CELL\n",
    "data = load_binary_data(class1, class2, path=PATH, proj_dim=params[\"proj_dim\"], gamma=params[\"gamma\"])\n",
    "K_values = np.linspace(2, data[\"X\"].shape[0]//n, num_values, dtype=int) \n",
    "\n",
    "df = pd.DataFrame(0, \n",
    "                  index=K_values, \n",
    "                  columns=[\"dis_emp_risks\", \"dis_risks\", \"emp_risks\", \"risks\", \"bias\", \"dis_times\", \"times\"])\n",
    "for r in range(M):\n",
    "    dis_emp_risks, dis_risks = [], []\n",
    "    emp_risks, risks = [], []\n",
    "    dis_times, times = [], []\n",
    "    bias = []\n",
    "    for K in K_values:\n",
    "        N = n*K\n",
    "        print(\"K = {}, N = {}\".format(K, N))\n",
    "        \n",
    "        idxs = np.random.permutation(data[\"X\"].shape[0])[:N]\n",
    "        \n",
    "        start = time.time()\n",
    "        server = distributed_learning(data, idxs, params, K, seed=SEED)\n",
    "        end = time.time()\n",
    "        dis_times.append(end-start)\n",
    "        print(\"Distributed learning setup total runtime: {0:.3f}s.\".format(end-start))\n",
    "        \n",
    "        dis_emp_risks.append(server.emp_risks[-1])\n",
    "        dis_risks.append(server.test_risks[-1])\n",
    "        bias.append(server.emp_risks[-1] - np.mean(server.local_emp_risks))\n",
    "        print(\"==============================\")\n",
    "        \n",
    "        start = time.time()\n",
    "        emp_risk, risk = centralized_learning(data, idxs, params, seed=SEED)\n",
    "        end = time.time()\n",
    "        times.append(end-start)\n",
    "        print(\"Centralized learning setup total runtime: {0:.3f}s.\".format(end-start))\n",
    "        \n",
    "        emp_risks.append(emp_risk)\n",
    "        risks.append(risk)\n",
    "        print(\"===============================================\")\n",
    "    df[\"dis_emp_risks\"] += dis_emp_risks\n",
    "    df[\"dis_risks\"] += dis_risks\n",
    "    df[\"emp_risks\"] += emp_risks\n",
    "    df[\"risks\"] += risks\n",
    "    df[\"bias\"] += bias\n",
    "    df[\"dis_times\"] += dis_times\n",
    "    df[\"times\"] += times\n",
    "    \n",
    "df /= M\n",
    "df[\"dis_gen\"] = df[\"dis_risks\"] - df[\"dis_emp_risks\"]\n",
    "df[\"gen\"] = df[\"risks\"] - df[\"emp_risks\"]\n",
    "# PLEASE DO NOT CHANGE ANYTHING IN THIS CELL\n",
    "###########################################"
   ]
  },
  {
   "cell_type": "code",
   "execution_count": 5,
   "metadata": {},
   "outputs": [],
   "source": [
    "df[\"dis_bounds\"] = [compute_bound(n, K, theta=params[\"theta\"]) for K in K_values]\n",
    "df[\"bounds\"] = [compute_bound(n*K, 1, theta=params[\"theta\"]) for K in K_values]"
   ]
  },
  {
   "cell_type": "code",
   "execution_count": 6,
   "metadata": {},
   "outputs": [
    {
     "data": {
      "text/html": [
       "<div>\n",
       "<style scoped>\n",
       "    .dataframe tbody tr th:only-of-type {\n",
       "        vertical-align: middle;\n",
       "    }\n",
       "\n",
       "    .dataframe tbody tr th {\n",
       "        vertical-align: top;\n",
       "    }\n",
       "\n",
       "    .dataframe thead th {\n",
       "        text-align: right;\n",
       "    }\n",
       "</style>\n",
       "<table border=\"1\" class=\"dataframe\">\n",
       "  <thead>\n",
       "    <tr style=\"text-align: right;\">\n",
       "      <th></th>\n",
       "      <th>dis_emp_risks</th>\n",
       "      <th>dis_risks</th>\n",
       "      <th>emp_risks</th>\n",
       "      <th>risks</th>\n",
       "      <th>bias</th>\n",
       "      <th>dis_times</th>\n",
       "      <th>times</th>\n",
       "      <th>dis_gen</th>\n",
       "      <th>gen</th>\n",
       "      <th>dis_bounds</th>\n",
       "      <th>bounds</th>\n",
       "    </tr>\n",
       "  </thead>\n",
       "  <tbody>\n",
       "    <tr>\n",
       "      <th>2</th>\n",
       "      <td>0.018333</td>\n",
       "      <td>0.134257</td>\n",
       "      <td>0.000000</td>\n",
       "      <td>0.122312</td>\n",
       "      <td>0.018333</td>\n",
       "      <td>1.099503</td>\n",
       "      <td>4.614040</td>\n",
       "      <td>0.115924</td>\n",
       "      <td>0.122312</td>\n",
       "      <td>5.906402</td>\n",
       "      <td>8.121475</td>\n",
       "    </tr>\n",
       "    <tr>\n",
       "      <th>12</th>\n",
       "      <td>0.093889</td>\n",
       "      <td>0.127568</td>\n",
       "      <td>0.005833</td>\n",
       "      <td>0.087434</td>\n",
       "      <td>0.093889</td>\n",
       "      <td>4.873045</td>\n",
       "      <td>41.979485</td>\n",
       "      <td>0.033679</td>\n",
       "      <td>0.081601</td>\n",
       "      <td>1.248896</td>\n",
       "      <td>3.745882</td>\n",
       "    </tr>\n",
       "    <tr>\n",
       "      <th>22</th>\n",
       "      <td>0.095000</td>\n",
       "      <td>0.118968</td>\n",
       "      <td>0.013182</td>\n",
       "      <td>0.083134</td>\n",
       "      <td>0.095000</td>\n",
       "      <td>9.541715</td>\n",
       "      <td>71.160782</td>\n",
       "      <td>0.023968</td>\n",
       "      <td>0.069952</td>\n",
       "      <td>0.798240</td>\n",
       "      <td>2.866447</td>\n",
       "    </tr>\n",
       "    <tr>\n",
       "      <th>32</th>\n",
       "      <td>0.110729</td>\n",
       "      <td>0.131390</td>\n",
       "      <td>0.020938</td>\n",
       "      <td>0.081701</td>\n",
       "      <td>0.110729</td>\n",
       "      <td>12.368856</td>\n",
       "      <td>109.007808</td>\n",
       "      <td>0.020661</td>\n",
       "      <td>0.060763</td>\n",
       "      <td>0.624220</td>\n",
       "      <td>2.426588</td>\n",
       "    </tr>\n",
       "    <tr>\n",
       "      <th>42</th>\n",
       "      <td>0.108254</td>\n",
       "      <td>0.125179</td>\n",
       "      <td>0.023175</td>\n",
       "      <td>0.078356</td>\n",
       "      <td>0.108254</td>\n",
       "      <td>18.927839</td>\n",
       "      <td>138.456712</td>\n",
       "      <td>0.016925</td>\n",
       "      <td>0.055182</td>\n",
       "      <td>0.525711</td>\n",
       "      <td>2.149148</td>\n",
       "    </tr>\n",
       "  </tbody>\n",
       "</table>\n",
       "</div>"
      ],
      "text/plain": [
       "    dis_emp_risks  dis_risks  emp_risks     risks      bias  dis_times  \\\n",
       "2        0.018333   0.134257   0.000000  0.122312  0.018333   1.099503   \n",
       "12       0.093889   0.127568   0.005833  0.087434  0.093889   4.873045   \n",
       "22       0.095000   0.118968   0.013182  0.083134  0.095000   9.541715   \n",
       "32       0.110729   0.131390   0.020938  0.081701  0.110729  12.368856   \n",
       "42       0.108254   0.125179   0.023175  0.078356  0.108254  18.927839   \n",
       "\n",
       "         times   dis_gen       gen  dis_bounds    bounds  \n",
       "2     4.614040  0.115924  0.122312    5.906402  8.121475  \n",
       "12   41.979485  0.033679  0.081601    1.248896  3.745882  \n",
       "22   71.160782  0.023968  0.069952    0.798240  2.866447  \n",
       "32  109.007808  0.020661  0.060763    0.624220  2.426588  \n",
       "42  138.456712  0.016925  0.055182    0.525711  2.149148  "
      ]
     },
     "execution_count": 6,
     "metadata": {},
     "output_type": "execute_result"
    }
   ],
   "source": [
    "df"
   ]
  },
  {
   "cell_type": "code",
   "execution_count": 7,
   "metadata": {},
   "outputs": [
    {
     "data": {
      "image/png": "[encoded data removed]",
      "text/plain": [
       "<Figure size 1152x432 with 2 Axes>"
      ]
     },
     "metadata": {
      "needs_background": "light"
     },
     "output_type": "display_data"
    }
   ],
   "source": [
    "fig, ax = plt.subplots(1, 2, figsize=(16, 6))\n",
    "ax[0].plot(K_values, df[\"dis_bounds\"], \n",
    "           marker=\"o\", ms=10, mew=3, ls='--', lw=4, \n",
    "           label=\"Distributed setting\")\n",
    "ax[0].plot(K_values, df[\"bounds\"], \n",
    "           marker=\"+\", ms=20, mew=3, ls='--', lw=4,\n",
    "           label=\"Centralized setting\")\n",
    "ax[0].set(xlabel=r\"$K$\", ylabel=\"generalization bound\", title=\"Theoretical bounds (Theorem 5.ii)\")\n",
    "ax[0].minorticks_on()\n",
    "ax[0].tick_params(which='minor', length=4)\n",
    "ax[0].legend()\n",
    "\n",
    "ax[1].plot(K_values, df[\"dis_gen\"], marker=\"o\", ms=10, mew=3, lw=4, label=\"Distributed setting\")\n",
    "ax[1].plot(K_values, df[\"gen\"], marker=\"+\", ms=20, mew=3, lw=4, label=\"Centralized setting\")\n",
    "ax[1].set(xlabel=r\"$K$\", ylabel=\"generalization error\", title=\"Experimental results\")\n",
    "ax[1].minorticks_on()\n",
    "ax[1].tick_params(which='minor', length=4)\n",
    "ax[1].legend()\n",
    "\n",
    "fig.tight_layout();"
   ]
  },
  {
   "cell_type": "code",
   "execution_count": 8,
   "metadata": {},
   "outputs": [
    {
     "data": {
      "image/png": "[encoded data removed]",
      "text/plain": [
       "<Figure size 576x432 with 1 Axes>"
      ]
     },
     "metadata": {
      "needs_background": "light"
     },
     "output_type": "display_data"
    }
   ],
   "source": [
    "fig2, ax = plt.subplots(figsize=(8, 6))\n",
    "ax.plot(K_values, df[\"dis_risks\"],            \n",
    "        marker=\"o\", ms=10, mew=2, lw=3, \n",
    "        label=r\"$\\mathcal{L}(\\overline{w})$\")\n",
    "ax.plot(K_values, df[\"risks\"], \n",
    "        marker=\"+\", ms=20, mew=2, lw=3,\n",
    "        label=r\"$\\mathcal{L}(w)$\")\n",
    "ax.plot(K_values, df[\"bias\"], \n",
    "        marker=\"o\", ms=10, mew=2, ls=':', lw=3, c='tab:blue',\n",
    "        label=r\"$\\Delta \\mathcal{\\hat L}(s_{1:K}, w_{1:K}, \\overline{w})$\")\n",
    "ax.set(xlabel=r\"$K$\", ylabel=\"risk\")\n",
    "ax.legend();"
   ]
  },
  {
   "cell_type": "code",
   "execution_count": 9,
   "metadata": {},
   "outputs": [
    {
     "data": {
      "text/plain": [
       "'\\nUser can uncomment this to save plots in .png files.\\n'"
      ]
     },
     "execution_count": 9,
     "metadata": {},
     "output_type": "execute_result"
    }
   ],
   "source": [
    "\"\"\"\n",
    "User can uncomment this to save plots in .png files.\n",
    "\"\"\"\n",
    "# fig.savefig(\"plot1.png\")\n",
    "# fig2.savefig(\"plot2.png\")"
   ]
  },
  {
   "cell_type": "code",
   "execution_count": null,
   "metadata": {},
   "outputs": [],
   "source": []
  },
  {
   "cell_type": "code",
   "execution_count": null,
   "metadata": {},
   "outputs": [],
   "source": []
  }
 ],
 "metadata": {
  "kernelspec": {
   "display_name": "Python 3 (ipykernel)",
   "language": "python",
   "name": "python3"
  },
  "language_info": {
   "codemirror_mode": {
    "name": "ipython",
    "version": 3
   },
   "file_extension": ".py",
   "mimetype": "text/x-python",
   "name": "python",
   "nbconvert_exporter": "python",
   "pygments_lexer": "ipython3",
   "version": "3.9.10"
  }
 },
 "nbformat": 4,
 "nbformat_minor": 2
}
